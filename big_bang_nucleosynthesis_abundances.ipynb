{
  "nbformat": 4,
  "nbformat_minor": 0,
  "metadata": {
    "colab": {
      "provenance": [],
      "authorship_tag": "ABX9TyPFHbesydTj3IO4As4DTIie",
      "include_colab_link": true
    },
    "kernelspec": {
      "name": "python3",
      "display_name": "Python 3"
    },
    "language_info": {
      "name": "python"
    }
  },
  "cells": [
    {
      "cell_type": "markdown",
      "metadata": {
        "id": "view-in-github",
        "colab_type": "text"
      },
      "source": [
        "<a href=\"https://colab.research.google.com/github/Naomika123/epochs-of-early-universe/blob/main/big_bang_nucleosynthesis_abundances.ipynb\" target=\"_parent\"><img src=\"https://colab.research.google.com/assets/colab-badge.svg\" alt=\"Open In Colab\"/></a>"
      ]
    },
    {
      "cell_type": "code",
      "execution_count": 3,
      "metadata": {
        "colab": {
          "base_uri": "https://localhost:8080/"
        },
        "id": "lc5Zn653DbK-",
        "outputId": "94ed1a02-bf80-468f-ba84-3b0709608390"
      },
      "outputs": [
        {
          "output_type": "stream",
          "name": "stdout",
          "text": [
            "Cloning into 'LINX'...\n",
            "remote: Enumerating objects: 738, done.\u001b[K\n",
            "remote: Counting objects: 100% (154/154), done.\u001b[K\n",
            "remote: Compressing objects: 100% (108/108), done.\u001b[K\n",
            "remote: Total 738 (delta 83), reused 103 (delta 45), pack-reused 584 (from 2)\u001b[K\n",
            "Receiving objects: 100% (738/738), 68.79 MiB | 31.73 MiB/s, done.\n",
            "Resolving deltas: 100% (306/306), done.\n",
            "/content/LINX\n",
            "Requirement already satisfied: absl-py in /usr/local/lib/python3.11/dist-packages (from -r requirements.txt (line 1)) (1.4.0)\n",
            "Requirement already satisfied: arviz in /usr/local/lib/python3.11/dist-packages (from -r requirements.txt (line 2)) (0.22.0)\n",
            "Requirement already satisfied: astropy in /usr/local/lib/python3.11/dist-packages (from -r requirements.txt (line 3)) (7.1.0)\n",
            "Requirement already satisfied: cloudpickle in /usr/local/lib/python3.11/dist-packages (from -r requirements.txt (line 4)) (3.1.1)\n",
            "Collecting corner (from -r requirements.txt (line 5))\n",
            "  Downloading corner-2.2.3-py3-none-any.whl.metadata (2.2 kB)\n",
            "Collecting cosmopower-jax (from -r requirements.txt (line 6))\n",
            "  Downloading cosmopower_jax-0.5.7-py3-none-any.whl.metadata (9.2 kB)\n",
            "Requirement already satisfied: Cython in /usr/local/lib/python3.11/dist-packages (from -r requirements.txt (line 7)) (3.0.12)\n",
            "Collecting diffrax>=0.6.2 (from -r requirements.txt (line 8))\n",
            "  Downloading diffrax-0.7.0-py3-none-any.whl.metadata (17 kB)\n",
            "Collecting dynesty (from -r requirements.txt (line 9))\n",
            "  Downloading dynesty-2.1.5-py2.py3-none-any.whl.metadata (3.0 kB)\n",
            "Collecting emcee (from -r requirements.txt (line 10))\n",
            "  Downloading emcee-3.1.6-py2.py3-none-any.whl.metadata (3.0 kB)\n",
            "Collecting equinox (from -r requirements.txt (line 11))\n",
            "  Downloading equinox-0.13.0-py3-none-any.whl.metadata (18 kB)\n",
            "Requirement already satisfied: jax>=0.4.38 in /usr/local/lib/python3.11/dist-packages (from -r requirements.txt (line 12)) (0.5.3)\n",
            "Requirement already satisfied: jaxlib>=0.4.38 in /usr/local/lib/python3.11/dist-packages (from -r requirements.txt (line 13)) (0.5.3)\n",
            "Collecting jaxopt (from -r requirements.txt (line 14))\n",
            "  Downloading jaxopt-0.8.5-py3-none-any.whl.metadata (3.3 kB)\n",
            "Collecting jaxtyping (from -r requirements.txt (line 15))\n",
            "  Downloading jaxtyping-0.3.2-py3-none-any.whl.metadata (7.0 kB)\n",
            "Requirement already satisfied: joblib in /usr/local/lib/python3.11/dist-packages (from -r requirements.txt (line 16)) (1.5.1)\n",
            "Requirement already satisfied: matplotlib in /usr/local/lib/python3.11/dist-packages (from -r requirements.txt (line 17)) (3.10.0)\n",
            "Requirement already satisfied: numpy in /usr/local/lib/python3.11/dist-packages (from -r requirements.txt (line 18)) (2.0.2)\n",
            "Collecting numpyro (from -r requirements.txt (line 19))\n",
            "  Downloading numpyro-0.19.0-py3-none-any.whl.metadata (37 kB)\n",
            "Requirement already satisfied: optax in /usr/local/lib/python3.11/dist-packages (from -r requirements.txt (line 20)) (0.2.5)\n",
            "Collecting palettable (from -r requirements.txt (line 21))\n",
            "  Downloading palettable-3.3.3-py2.py3-none-any.whl.metadata (3.3 kB)\n",
            "Collecting pathspec (from -r requirements.txt (line 22))\n",
            "  Downloading pathspec-0.12.1-py3-none-any.whl.metadata (21 kB)\n",
            "Collecting pathtools (from -r requirements.txt (line 23))\n",
            "  Downloading pathtools-0.1.2.tar.gz (11 kB)\n",
            "  Preparing metadata (setup.py) ... \u001b[?25l\u001b[?25hdone\n",
            "Requirement already satisfied: pickleshare in /usr/local/lib/python3.11/dist-packages (from -r requirements.txt (line 24)) (0.7.5)\n",
            "Requirement already satisfied: pytest in /usr/local/lib/python3.11/dist-packages (from -r requirements.txt (line 25)) (8.4.1)\n",
            "Requirement already satisfied: scipy in /usr/local/lib/python3.11/dist-packages (from -r requirements.txt (line 26)) (1.16.1)\n",
            "Requirement already satisfied: tensorflow in /usr/local/lib/python3.11/dist-packages (from -r requirements.txt (line 27)) (2.19.0)\n",
            "Requirement already satisfied: tqdm in /usr/local/lib/python3.11/dist-packages (from -r requirements.txt (line 28)) (4.67.1)\n",
            "Requirement already satisfied: setuptools>=60.0.0 in /usr/local/lib/python3.11/dist-packages (from arviz->-r requirements.txt (line 2)) (75.2.0)\n",
            "Requirement already satisfied: packaging in /usr/local/lib/python3.11/dist-packages (from arviz->-r requirements.txt (line 2)) (25.0)\n",
            "Requirement already satisfied: pandas>=2.1.0 in /usr/local/lib/python3.11/dist-packages (from arviz->-r requirements.txt (line 2)) (2.2.2)\n",
            "Requirement already satisfied: xarray>=2023.7.0 in /usr/local/lib/python3.11/dist-packages (from arviz->-r requirements.txt (line 2)) (2025.7.1)\n",
            "Requirement already satisfied: h5netcdf>=1.0.2 in /usr/local/lib/python3.11/dist-packages (from arviz->-r requirements.txt (line 2)) (1.6.4)\n",
            "Requirement already satisfied: typing-extensions>=4.1.0 in /usr/local/lib/python3.11/dist-packages (from arviz->-r requirements.txt (line 2)) (4.14.1)\n",
            "Requirement already satisfied: xarray-einstats>=0.3 in /usr/local/lib/python3.11/dist-packages (from arviz->-r requirements.txt (line 2)) (0.9.1)\n",
            "Requirement already satisfied: pyerfa>=2.0.1.1 in /usr/local/lib/python3.11/dist-packages (from astropy->-r requirements.txt (line 3)) (2.0.1.5)\n",
            "Requirement already satisfied: astropy-iers-data>=0.2025.4.28.0.37.27 in /usr/local/lib/python3.11/dist-packages (from astropy->-r requirements.txt (line 3)) (0.2025.8.11.0.41.9)\n",
            "Requirement already satisfied: PyYAML>=6.0.0 in /usr/local/lib/python3.11/dist-packages (from astropy->-r requirements.txt (line 3)) (6.0.2)\n",
            "Collecting lineax>=0.0.5 (from diffrax>=0.6.2->-r requirements.txt (line 8))\n",
            "  Downloading lineax-0.0.8-py3-none-any.whl.metadata (18 kB)\n",
            "Collecting optimistix>=0.0.10 (from diffrax>=0.6.2->-r requirements.txt (line 8))\n",
            "  Downloading optimistix-0.0.10-py3-none-any.whl.metadata (17 kB)\n",
            "Collecting wadler-lindig>=0.1.1 (from diffrax>=0.6.2->-r requirements.txt (line 8))\n",
            "  Downloading wadler_lindig-0.1.7-py3-none-any.whl.metadata (17 kB)\n",
            "Requirement already satisfied: ml_dtypes>=0.4.0 in /usr/local/lib/python3.11/dist-packages (from jax>=0.4.38->-r requirements.txt (line 12)) (0.5.3)\n",
            "Requirement already satisfied: opt_einsum in /usr/local/lib/python3.11/dist-packages (from jax>=0.4.38->-r requirements.txt (line 12)) (3.4.0)\n",
            "Requirement already satisfied: contourpy>=1.0.1 in /usr/local/lib/python3.11/dist-packages (from matplotlib->-r requirements.txt (line 17)) (1.3.3)\n",
            "Requirement already satisfied: cycler>=0.10 in /usr/local/lib/python3.11/dist-packages (from matplotlib->-r requirements.txt (line 17)) (0.12.1)\n",
            "Requirement already satisfied: fonttools>=4.22.0 in /usr/local/lib/python3.11/dist-packages (from matplotlib->-r requirements.txt (line 17)) (4.59.0)\n",
            "Requirement already satisfied: kiwisolver>=1.3.1 in /usr/local/lib/python3.11/dist-packages (from matplotlib->-r requirements.txt (line 17)) (1.4.9)\n",
            "Requirement already satisfied: pillow>=8 in /usr/local/lib/python3.11/dist-packages (from matplotlib->-r requirements.txt (line 17)) (11.3.0)\n",
            "Requirement already satisfied: pyparsing>=2.3.1 in /usr/local/lib/python3.11/dist-packages (from matplotlib->-r requirements.txt (line 17)) (3.2.3)\n",
            "Requirement already satisfied: python-dateutil>=2.7 in /usr/local/lib/python3.11/dist-packages (from matplotlib->-r requirements.txt (line 17)) (2.9.0.post0)\n",
            "Requirement already satisfied: multipledispatch in /usr/local/lib/python3.11/dist-packages (from numpyro->-r requirements.txt (line 19)) (1.0.0)\n",
            "Requirement already satisfied: chex>=0.1.87 in /usr/local/lib/python3.11/dist-packages (from optax->-r requirements.txt (line 20)) (0.1.90)\n",
            "Requirement already satisfied: iniconfig>=1 in /usr/local/lib/python3.11/dist-packages (from pytest->-r requirements.txt (line 25)) (2.1.0)\n",
            "Requirement already satisfied: pluggy<2,>=1.5 in /usr/local/lib/python3.11/dist-packages (from pytest->-r requirements.txt (line 25)) (1.6.0)\n",
            "Requirement already satisfied: pygments>=2.7.2 in /usr/local/lib/python3.11/dist-packages (from pytest->-r requirements.txt (line 25)) (2.19.2)\n",
            "Requirement already satisfied: astunparse>=1.6.0 in /usr/local/lib/python3.11/dist-packages (from tensorflow->-r requirements.txt (line 27)) (1.6.3)\n",
            "Requirement already satisfied: flatbuffers>=24.3.25 in /usr/local/lib/python3.11/dist-packages (from tensorflow->-r requirements.txt (line 27)) (25.2.10)\n",
            "Requirement already satisfied: gast!=0.5.0,!=0.5.1,!=0.5.2,>=0.2.1 in /usr/local/lib/python3.11/dist-packages (from tensorflow->-r requirements.txt (line 27)) (0.6.0)\n",
            "Requirement already satisfied: google-pasta>=0.1.1 in /usr/local/lib/python3.11/dist-packages (from tensorflow->-r requirements.txt (line 27)) (0.2.0)\n",
            "Requirement already satisfied: libclang>=13.0.0 in /usr/local/lib/python3.11/dist-packages (from tensorflow->-r requirements.txt (line 27)) (18.1.1)\n",
            "Requirement already satisfied: protobuf!=4.21.0,!=4.21.1,!=4.21.2,!=4.21.3,!=4.21.4,!=4.21.5,<6.0.0dev,>=3.20.3 in /usr/local/lib/python3.11/dist-packages (from tensorflow->-r requirements.txt (line 27)) (5.29.5)\n",
            "Requirement already satisfied: requests<3,>=2.21.0 in /usr/local/lib/python3.11/dist-packages (from tensorflow->-r requirements.txt (line 27)) (2.32.3)\n",
            "Requirement already satisfied: six>=1.12.0 in /usr/local/lib/python3.11/dist-packages (from tensorflow->-r requirements.txt (line 27)) (1.17.0)\n",
            "Requirement already satisfied: termcolor>=1.1.0 in /usr/local/lib/python3.11/dist-packages (from tensorflow->-r requirements.txt (line 27)) (3.1.0)\n",
            "Requirement already satisfied: wrapt>=1.11.0 in /usr/local/lib/python3.11/dist-packages (from tensorflow->-r requirements.txt (line 27)) (1.17.2)\n",
            "Requirement already satisfied: grpcio<2.0,>=1.24.3 in /usr/local/lib/python3.11/dist-packages (from tensorflow->-r requirements.txt (line 27)) (1.74.0)\n",
            "Requirement already satisfied: tensorboard~=2.19.0 in /usr/local/lib/python3.11/dist-packages (from tensorflow->-r requirements.txt (line 27)) (2.19.0)\n",
            "Requirement already satisfied: keras>=3.5.0 in /usr/local/lib/python3.11/dist-packages (from tensorflow->-r requirements.txt (line 27)) (3.10.0)\n",
            "Requirement already satisfied: h5py>=3.11.0 in /usr/local/lib/python3.11/dist-packages (from tensorflow->-r requirements.txt (line 27)) (3.14.0)\n",
            "Requirement already satisfied: tensorflow-io-gcs-filesystem>=0.23.1 in /usr/local/lib/python3.11/dist-packages (from tensorflow->-r requirements.txt (line 27)) (0.37.1)\n",
            "Requirement already satisfied: wheel<1.0,>=0.23.0 in /usr/local/lib/python3.11/dist-packages (from astunparse>=1.6.0->tensorflow->-r requirements.txt (line 27)) (0.45.1)\n",
            "Requirement already satisfied: toolz>=0.9.0 in /usr/local/lib/python3.11/dist-packages (from chex>=0.1.87->optax->-r requirements.txt (line 20)) (0.12.1)\n",
            "Requirement already satisfied: rich in /usr/local/lib/python3.11/dist-packages (from keras>=3.5.0->tensorflow->-r requirements.txt (line 27)) (13.9.4)\n",
            "Requirement already satisfied: namex in /usr/local/lib/python3.11/dist-packages (from keras>=3.5.0->tensorflow->-r requirements.txt (line 27)) (0.1.0)\n",
            "Requirement already satisfied: optree in /usr/local/lib/python3.11/dist-packages (from keras>=3.5.0->tensorflow->-r requirements.txt (line 27)) (0.17.0)\n",
            "Requirement already satisfied: pytz>=2020.1 in /usr/local/lib/python3.11/dist-packages (from pandas>=2.1.0->arviz->-r requirements.txt (line 2)) (2025.2)\n",
            "Requirement already satisfied: tzdata>=2022.7 in /usr/local/lib/python3.11/dist-packages (from pandas>=2.1.0->arviz->-r requirements.txt (line 2)) (2025.2)\n",
            "Requirement already satisfied: charset-normalizer<4,>=2 in /usr/local/lib/python3.11/dist-packages (from requests<3,>=2.21.0->tensorflow->-r requirements.txt (line 27)) (3.4.3)\n",
            "Requirement already satisfied: idna<4,>=2.5 in /usr/local/lib/python3.11/dist-packages (from requests<3,>=2.21.0->tensorflow->-r requirements.txt (line 27)) (3.10)\n",
            "Requirement already satisfied: urllib3<3,>=1.21.1 in /usr/local/lib/python3.11/dist-packages (from requests<3,>=2.21.0->tensorflow->-r requirements.txt (line 27)) (2.5.0)\n",
            "Requirement already satisfied: certifi>=2017.4.17 in /usr/local/lib/python3.11/dist-packages (from requests<3,>=2.21.0->tensorflow->-r requirements.txt (line 27)) (2025.8.3)\n",
            "Requirement already satisfied: markdown>=2.6.8 in /usr/local/lib/python3.11/dist-packages (from tensorboard~=2.19.0->tensorflow->-r requirements.txt (line 27)) (3.8.2)\n",
            "Requirement already satisfied: tensorboard-data-server<0.8.0,>=0.7.0 in /usr/local/lib/python3.11/dist-packages (from tensorboard~=2.19.0->tensorflow->-r requirements.txt (line 27)) (0.7.2)\n",
            "Requirement already satisfied: werkzeug>=1.0.1 in /usr/local/lib/python3.11/dist-packages (from tensorboard~=2.19.0->tensorflow->-r requirements.txt (line 27)) (3.1.3)\n",
            "Requirement already satisfied: MarkupSafe>=2.1.1 in /usr/local/lib/python3.11/dist-packages (from werkzeug>=1.0.1->tensorboard~=2.19.0->tensorflow->-r requirements.txt (line 27)) (3.0.2)\n",
            "Requirement already satisfied: markdown-it-py>=2.2.0 in /usr/local/lib/python3.11/dist-packages (from rich->keras>=3.5.0->tensorflow->-r requirements.txt (line 27)) (4.0.0)\n",
            "Requirement already satisfied: mdurl~=0.1 in /usr/local/lib/python3.11/dist-packages (from markdown-it-py>=2.2.0->rich->keras>=3.5.0->tensorflow->-r requirements.txt (line 27)) (0.1.2)\n",
            "Downloading corner-2.2.3-py3-none-any.whl (15 kB)\n",
            "Downloading cosmopower_jax-0.5.7-py3-none-any.whl (81.1 MB)\n",
            "\u001b[2K   \u001b[90m━━━━━━━━━━━━━━━━━━━━━━━━━━━━━━━━━━━━━━━━\u001b[0m \u001b[32m81.1/81.1 MB\u001b[0m \u001b[31m12.2 MB/s\u001b[0m eta \u001b[36m0:00:00\u001b[0m\n",
            "\u001b[?25hDownloading diffrax-0.7.0-py3-none-any.whl (193 kB)\n",
            "\u001b[2K   \u001b[90m━━━━━━━━━━━━━━━━━━━━━━━━━━━━━━━━━━━━━━━━\u001b[0m \u001b[32m193.2/193.2 kB\u001b[0m \u001b[31m16.7 MB/s\u001b[0m eta \u001b[36m0:00:00\u001b[0m\n",
            "\u001b[?25hDownloading dynesty-2.1.5-py2.py3-none-any.whl (108 kB)\n",
            "\u001b[2K   \u001b[90m━━━━━━━━━━━━━━━━━━━━━━━━━━━━━━━━━━━━━━━━\u001b[0m \u001b[32m108.2/108.2 kB\u001b[0m \u001b[31m9.4 MB/s\u001b[0m eta \u001b[36m0:00:00\u001b[0m\n",
            "\u001b[?25hDownloading emcee-3.1.6-py2.py3-none-any.whl (47 kB)\n",
            "\u001b[2K   \u001b[90m━━━━━━━━━━━━━━━━━━━━━━━━━━━━━━━━━━━━━━━━\u001b[0m \u001b[32m47.4/47.4 kB\u001b[0m \u001b[31m3.7 MB/s\u001b[0m eta \u001b[36m0:00:00\u001b[0m\n",
            "\u001b[?25hDownloading equinox-0.13.0-py3-none-any.whl (177 kB)\n",
            "\u001b[2K   \u001b[90m━━━━━━━━━━━━━━━━━━━━━━━━━━━━━━━━━━━━━━━━\u001b[0m \u001b[32m177.7/177.7 kB\u001b[0m \u001b[31m14.1 MB/s\u001b[0m eta \u001b[36m0:00:00\u001b[0m\n",
            "\u001b[?25hDownloading jaxopt-0.8.5-py3-none-any.whl (172 kB)\n",
            "\u001b[2K   \u001b[90m━━━━━━━━━━━━━━━━━━━━━━━━━━━━━━━━━━━━━━━━\u001b[0m \u001b[32m172.4/172.4 kB\u001b[0m \u001b[31m13.2 MB/s\u001b[0m eta \u001b[36m0:00:00\u001b[0m\n",
            "\u001b[?25hDownloading jaxtyping-0.3.2-py3-none-any.whl (55 kB)\n",
            "\u001b[2K   \u001b[90m━━━━━━━━━━━━━━━━━━━━━━━━━━━━━━━━━━━━━━━━\u001b[0m \u001b[32m55.4/55.4 kB\u001b[0m \u001b[31m4.8 MB/s\u001b[0m eta \u001b[36m0:00:00\u001b[0m\n",
            "\u001b[?25hDownloading numpyro-0.19.0-py3-none-any.whl (370 kB)\n",
            "\u001b[2K   \u001b[90m━━━━━━━━━━━━━━━━━━━━━━━━━━━━━━━━━━━━━━━━\u001b[0m \u001b[32m370.9/370.9 kB\u001b[0m \u001b[31m25.7 MB/s\u001b[0m eta \u001b[36m0:00:00\u001b[0m\n",
            "\u001b[?25hDownloading palettable-3.3.3-py2.py3-none-any.whl (332 kB)\n",
            "\u001b[2K   \u001b[90m━━━━━━━━━━━━━━━━━━━━━━━━━━━━━━━━━━━━━━━━\u001b[0m \u001b[32m332.3/332.3 kB\u001b[0m \u001b[31m23.3 MB/s\u001b[0m eta \u001b[36m0:00:00\u001b[0m\n",
            "\u001b[?25hDownloading pathspec-0.12.1-py3-none-any.whl (31 kB)\n",
            "Downloading lineax-0.0.8-py3-none-any.whl (68 kB)\n",
            "\u001b[2K   \u001b[90m━━━━━━━━━━━━━━━━━━━━━━━━━━━━━━━━━━━━━━━━\u001b[0m \u001b[32m68.0/68.0 kB\u001b[0m \u001b[31m6.7 MB/s\u001b[0m eta \u001b[36m0:00:00\u001b[0m\n",
            "\u001b[?25hDownloading optimistix-0.0.10-py3-none-any.whl (84 kB)\n",
            "\u001b[2K   \u001b[90m━━━━━━━━━━━━━━━━━━━━━━━━━━━━━━━━━━━━━━━━\u001b[0m \u001b[32m84.3/84.3 kB\u001b[0m \u001b[31m7.2 MB/s\u001b[0m eta \u001b[36m0:00:00\u001b[0m\n",
            "\u001b[?25hDownloading wadler_lindig-0.1.7-py3-none-any.whl (20 kB)\n",
            "Building wheels for collected packages: pathtools\n",
            "  Building wheel for pathtools (setup.py) ... \u001b[?25l\u001b[?25hdone\n",
            "  Created wheel for pathtools: filename=pathtools-0.1.2-py3-none-any.whl size=8792 sha256=fc4681309ebe80409dafe244065d6037f82ba75a07c80c8119416ac6eb47344e\n",
            "  Stored in directory: /root/.cache/pip/wheels/ea/b7/8b/84e94095ea418b9442f5abeba4ca7b0ad52d3fe7b69d6238a6\n",
            "Successfully built pathtools\n",
            "Installing collected packages: pathtools, dynesty, wadler-lindig, pathspec, palettable, emcee, jaxtyping, corner, numpyro, jaxopt, equinox, cosmopower-jax, lineax, optimistix, diffrax\n",
            "Successfully installed corner-2.2.3 cosmopower-jax-0.5.7 diffrax-0.7.0 dynesty-2.1.5 emcee-3.1.6 equinox-0.13.0 jaxopt-0.8.5 jaxtyping-0.3.2 lineax-0.0.8 numpyro-0.19.0 optimistix-0.0.10 palettable-3.3.3 pathspec-0.12.1 pathtools-0.1.2 wadler-lindig-0.1.7\n"
          ]
        }
      ],
      "source": [
        "!git clone https://github.com/cgiovanetti/LINX.git\n",
        "%cd LINX\n",
        "\n",
        "!pip install -r requirements.txt"
      ]
    },
    {
      "cell_type": "code",
      "source": [
        "import jax"
      ],
      "metadata": {
        "id": "06UQkSzcE3gX"
      },
      "execution_count": 4,
      "outputs": []
    },
    {
      "cell_type": "code",
      "source": [
        "from jax import numpy as jnp\n",
        "import matplotlib.pyplot as plt\n",
        "\n",
        "from linx.background import BackgroundModel\n",
        "from linx.nuclear import NuclearRates\n",
        "from linx.abundances import AbundanceModel"
      ],
      "metadata": {
        "id": "8YltvyAmFhyy"
      },
      "execution_count": 5,
      "outputs": []
    },
    {
      "cell_type": "code",
      "source": [
        "bkg_model = BackgroundModel()"
      ],
      "metadata": {
        "id": "eUWERRVhGCqX"
      },
      "execution_count": 6,
      "outputs": []
    },
    {
      "cell_type": "code",
      "source": [
        "fast_bkg = BackgroundModel(LO=False, NLO=False)"
      ],
      "metadata": {
        "id": "RnNLdwkrGNJ5"
      },
      "execution_count": 7,
      "outputs": []
    },
    {
      "cell_type": "code",
      "source": [
        "t_vec, a_vec, rho_g_vec, rho_nu_vec, rho_NP_vec, p_NP_vec, Neff_vec = bkg_model(jnp.asarray(5.0))\n",
        "t_fast, a_fast, rho_g_f, rho_nu_f, rho_NP_f, p_NP_f, Neff_fast = fast_bkg(jnp.asarray(0.0))\n"
      ],
      "metadata": {
        "id": "RdOf4UUvGTZq"
      },
      "execution_count": 30,
      "outputs": []
    },
    {
      "cell_type": "code",
      "source": [
        "plt.plot(a_vec, t_vec, label = \"bkg_model scale factor\")\n",
        "plt.xlabel(\"time (s)\")\n",
        "plt.ylabel(\"a(t)\")\n",
        "plt.legend()"
      ],
      "metadata": {
        "colab": {
          "base_uri": "https://localhost:8080/",
          "height": 466
        },
        "id": "JCiUaVIBGWCy",
        "outputId": "facea18e-0849-40de-e223-6489c5e3991f"
      },
      "execution_count": 31,
      "outputs": [
        {
          "output_type": "execute_result",
          "data": {
            "text/plain": [
              "<matplotlib.legend.Legend at 0x7938155cd910>"
            ]
          },
          "metadata": {},
          "execution_count": 31
        },
        {
          "output_type": "display_data",
          "data": {
            "text/plain": [
              "<Figure size 640x480 with 1 Axes>"
            ],
            "image/png": "[encoded data removed]"
          },
          "metadata": {}
        }
      ]
    },
    {
      "cell_type": "code",
      "source": [
        "plt.plot(a_fast, t_fast, label = \"fast_bkg scale factor\")\n",
        "plt.xlabel(\"time (s)\")\n",
        "plt.ylabel(\"a(t)\")\n",
        "plt.legend()"
      ],
      "metadata": {
        "colab": {
          "base_uri": "https://localhost:8080/",
          "height": 466
        },
        "id": "VZ3Mbyf6Gws3",
        "outputId": "32977bad-833e-4c91-bae1-ac784759c0a6"
      },
      "execution_count": 13,
      "outputs": [
        {
          "output_type": "execute_result",
          "data": {
            "text/plain": [
              "<matplotlib.legend.Legend at 0x7938242ab7d0>"
            ]
          },
          "metadata": {},
          "execution_count": 13
        },
        {
          "output_type": "display_data",
          "data": {
            "text/plain": [
              "<Figure size 640x480 with 1 Axes>"
            ],
            "image/png": "[encoded data removed]"
          },
          "metadata": {}
        }
      ]
    },
    {
      "cell_type": "code",
      "source": [
        "abd_model = AbundanceModel(\n",
        "NuclearRates(nuclear_net='key_PRIMAT_2023')\n",
        ")"
      ],
      "metadata": {
        "id": "gbzb7DtIJ0aL"
      },
      "execution_count": 15,
      "outputs": []
    },
    {
      "cell_type": "code",
      "source": [
        "Yn, Yp, Yd, Yt, YHe3, Ya, YLi7, YBe7 = abd_model(rho_g_vec, rho_nu_vec, rho_NP_vec, p_NP_vec, t_vec=t_vec, a_vec=a_vec, eta_fac = 1.5) # eta_fac is the baryon density"
      ],
      "metadata": {
        "colab": {
          "base_uri": "https://localhost:8080/"
        },
        "id": "ISrD5aucNyxu",
        "outputId": "660ec129-01c6-4d1a-ba98-bd9c81970232"
      },
      "execution_count": 29,
      "outputs": [
        {
          "output_type": "stream",
          "name": "stdout",
          "text": [
            "Compiling abundance model...\n"
          ]
        }
      ]
    },
    {
      "cell_type": "code",
      "source": [
        "abunds = [\n",
        "    (\"Yn (neutrons)\", Yn),\n",
        "    (\"Yp (protons/H)\", Yp),\n",
        "    (\"Yd (deuterium)\", Yd),\n",
        "    (\"Yt (tritium)\", Yt),\n",
        "    (\"YHe3\",          YHe3),\n",
        "    (\"Ya (He-4)\",     Ya),\n",
        "    (\"YLi7\",          YLi7),\n",
        "    (\"YBe7\",          YBe7),\n",
        "]\n",
        "print(\"Primordial yields:\")\n",
        "for name, val in abunds:\n",
        "    # convert JAX scalars to Python float for neat formatting\n",
        "    print(f\"  {name:16s}: {float(val):.6e}\")"
      ],
      "metadata": {
        "colab": {
          "base_uri": "https://localhost:8080/"
        },
        "id": "thIiIglYTLkZ",
        "outputId": "3d4e1442-468d-4237-ec6f-12f83033467d"
      },
      "execution_count": 32,
      "outputs": [
        {
          "output_type": "stream",
          "name": "stdout",
          "text": [
            "Primordial yields:\n",
            "  Yn (neutrons)   : 2.455974e-11\n",
            "  Yp (protons/H)  : 7.490174e-01\n",
            "  Yd (deuterium)  : 9.036849e-06\n",
            "  Yt (tritium)    : 2.803467e-08\n",
            "  YHe3            : 6.203465e-06\n",
            "  Ya (He-4)       : 6.273647e-02\n",
            "  YLi7            : 1.216655e-11\n",
            "  YBe7            : 8.845446e-10\n"
          ]
        }
      ]
    },
    {
      "cell_type": "code",
      "source": [
        "D_over_H = Yd/Yp\n",
        "YHe = 4*Ya"
      ],
      "metadata": {
        "id": "75Xsp877N4Ui"
      },
      "execution_count": 34,
      "outputs": []
    },
    {
      "cell_type": "markdown",
      "source": [
        "The abundances above are the predictions for the BBN abundances of each of\n",
        "these nuclei in standard cosmology."
      ],
      "metadata": {
        "id": "L1eDrEGlTWF_"
      }
    },
    {
      "cell_type": "markdown",
      "source": [
        "trend:  higher Neff_vec[-1] → faster expansion → higher D/H and higher\n",
        "𝑌\n",
        "𝑃\n",
        " ."
      ],
      "metadata": {
        "id": "SX-qyDidWbud"
      }
    },
    {
      "cell_type": "markdown",
      "source": [
        "Change the rate at which the universe expands. Pass a nonzero value into\n",
        "bkg_model to do so, where the syntax you should use is t_vec, a_vec,\n",
        "rho_g_vec, rho_nu_vec, rho_NP_vec, p_NP_vec, Neff_vec =\n",
        "bkg_model(jnp.asarray(value)) and you use a float in place of value .\n",
        "Make sure you format integer inputs as floats, like 1. or 2. , etc, otherwise the\n",
        "code may run slower. Positive values make the universe expand faster, while\n",
        "negative values make it expand slower. Plot D/H and YP as a function of the last\n",
        "entry in Neff_vec (i.e., Neff_vec[-1] ) in each value of the input you use."
      ],
      "metadata": {
        "id": "YlbBhbEbU5L8"
      }
    }
  ]
}