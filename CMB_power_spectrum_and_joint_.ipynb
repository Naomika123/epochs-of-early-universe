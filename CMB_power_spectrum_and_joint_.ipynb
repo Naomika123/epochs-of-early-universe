{
  "cells": [
    {
      "cell_type": "markdown",
      "id": "7d5a2203-f95d-4241-9e34-b3163a891029",
      "metadata": {
        "id": "7d5a2203-f95d-4241-9e34-b3163a891029"
      },
      "source": [
        "# Setup"
      ]
    },
    {
      "cell_type": "code",
      "source": [
        "!pip install classy"
      ],
      "metadata": {
        "colab": {
          "base_uri": "https://localhost:8080/"
        },
        "id": "w5qq3Yd2P7uN",
        "outputId": "7b39662c-5960-4c4c-d06f-7eeef4508b58"
      },
      "id": "w5qq3Yd2P7uN",
      "execution_count": 3,
      "outputs": [
        {
          "output_type": "stream",
          "name": "stdout",
          "text": [
            "Collecting classy\n",
            "  Downloading classy-3.3.1.0.tar.gz (6.0 MB)\n",
            "\u001b[2K     \u001b[90m━━━━━━━━━━━━━━━━━━━━━━━━━━━━━━━━━━━━━━━━\u001b[0m \u001b[32m6.0/6.0 MB\u001b[0m \u001b[31m11.9 MB/s\u001b[0m eta \u001b[36m0:00:00\u001b[0m\n",
            "\u001b[?25h  Installing build dependencies ... \u001b[?25l\u001b[?25hdone\n",
            "  Getting requirements to build wheel ... \u001b[?25l\u001b[?25hdone\n",
            "  Preparing metadata (pyproject.toml) ... \u001b[?25l\u001b[?25hdone\n",
            "Building wheels for collected packages: classy\n",
            "  Building wheel for classy (pyproject.toml) ... \u001b[?25l\u001b[?25hdone\n",
            "  Created wheel for classy: filename=classy-3.3.1.0-cp311-cp311-linux_x86_64.whl size=11554099 sha256=bda8f98563db2f71548553ab41acf26d9c5af22107f5de38a5dd3aa7a5a39d69\n",
            "  Stored in directory: /root/.cache/pip/wheels/2d/39/fb/425d3b5621929de4e4437260951b8582ea9bf333c5efdd1b67\n",
            "Successfully built classy\n",
            "Installing collected packages: classy\n",
            "Successfully installed classy-3.3.1.0\n"
          ]
        }
      ]
    },
    {
      "cell_type": "code",
      "source": [],
      "metadata": {
        "id": "AGfuW0JPZLpy"
      },
      "id": "AGfuW0JPZLpy",
      "execution_count": null,
      "outputs": []
    },
    {
      "cell_type": "code",
      "source": [
        "import linx.const"
      ],
      "metadata": {
        "id": "gJk-X_T8b7QA"
      },
      "id": "gJk-X_T8b7QA",
      "execution_count": 20,
      "outputs": []
    },
    {
      "cell_type": "code",
      "execution_count": 4,
      "metadata": {
        "colab": {
          "base_uri": "https://localhost:8080/"
        },
        "id": "lc5Zn653DbK-",
        "outputId": "ed55a846-84a9-42a9-bc8a-e81e8248c415",
        "collapsed": true
      },
      "outputs": [
        {
          "output_type": "stream",
          "name": "stdout",
          "text": [
            "Cloning into 'LINX'...\n",
            "remote: Enumerating objects: 738, done.\u001b[K\n",
            "remote: Counting objects: 100% (154/154), done.\u001b[K\n",
            "remote: Compressing objects: 100% (108/108), done.\u001b[K\n",
            "remote: Total 738 (delta 83), reused 103 (delta 45), pack-reused 584 (from 2)\u001b[K\n",
            "Receiving objects: 100% (738/738), 68.79 MiB | 18.20 MiB/s, done.\n",
            "Resolving deltas: 100% (306/306), done.\n",
            "/content/LINX\n",
            "Requirement already satisfied: absl-py in /usr/local/lib/python3.11/dist-packages (from -r requirements.txt (line 1)) (1.4.0)\n",
            "Requirement already satisfied: arviz in /usr/local/lib/python3.11/dist-packages (from -r requirements.txt (line 2)) (0.22.0)\n",
            "Requirement already satisfied: astropy in /usr/local/lib/python3.11/dist-packages (from -r requirements.txt (line 3)) (7.1.0)\n",
            "Requirement already satisfied: cloudpickle in /usr/local/lib/python3.11/dist-packages (from -r requirements.txt (line 4)) (3.1.1)\n",
            "Collecting corner (from -r requirements.txt (line 5))\n",
            "  Downloading corner-2.2.3-py3-none-any.whl.metadata (2.2 kB)\n",
            "Collecting cosmopower-jax (from -r requirements.txt (line 6))\n",
            "  Downloading cosmopower_jax-0.5.7-py3-none-any.whl.metadata (9.2 kB)\n",
            "Requirement already satisfied: Cython in /usr/local/lib/python3.11/dist-packages (from -r requirements.txt (line 7)) (3.0.12)\n",
            "Collecting diffrax>=0.6.2 (from -r requirements.txt (line 8))\n",
            "  Downloading diffrax-0.7.0-py3-none-any.whl.metadata (17 kB)\n",
            "Collecting dynesty (from -r requirements.txt (line 9))\n",
            "  Downloading dynesty-2.1.5-py2.py3-none-any.whl.metadata (3.0 kB)\n",
            "Collecting emcee (from -r requirements.txt (line 10))\n",
            "  Downloading emcee-3.1.6-py2.py3-none-any.whl.metadata (3.0 kB)\n",
            "Collecting equinox (from -r requirements.txt (line 11))\n",
            "  Downloading equinox-0.13.0-py3-none-any.whl.metadata (18 kB)\n",
            "Requirement already satisfied: jax>=0.4.38 in /usr/local/lib/python3.11/dist-packages (from -r requirements.txt (line 12)) (0.5.3)\n",
            "Requirement already satisfied: jaxlib>=0.4.38 in /usr/local/lib/python3.11/dist-packages (from -r requirements.txt (line 13)) (0.5.3)\n",
            "Collecting jaxopt (from -r requirements.txt (line 14))\n",
            "  Downloading jaxopt-0.8.5-py3-none-any.whl.metadata (3.3 kB)\n",
            "Collecting jaxtyping (from -r requirements.txt (line 15))\n",
            "  Downloading jaxtyping-0.3.2-py3-none-any.whl.metadata (7.0 kB)\n",
            "Requirement already satisfied: joblib in /usr/local/lib/python3.11/dist-packages (from -r requirements.txt (line 16)) (1.5.1)\n",
            "Requirement already satisfied: matplotlib in /usr/local/lib/python3.11/dist-packages (from -r requirements.txt (line 17)) (3.10.0)\n",
            "Requirement already satisfied: numpy in /usr/local/lib/python3.11/dist-packages (from -r requirements.txt (line 18)) (2.0.2)\n",
            "Collecting numpyro (from -r requirements.txt (line 19))\n",
            "  Downloading numpyro-0.19.0-py3-none-any.whl.metadata (37 kB)\n",
            "Requirement already satisfied: optax in /usr/local/lib/python3.11/dist-packages (from -r requirements.txt (line 20)) (0.2.5)\n",
            "Collecting palettable (from -r requirements.txt (line 21))\n",
            "  Downloading palettable-3.3.3-py2.py3-none-any.whl.metadata (3.3 kB)\n",
            "Collecting pathspec (from -r requirements.txt (line 22))\n",
            "  Downloading pathspec-0.12.1-py3-none-any.whl.metadata (21 kB)\n",
            "Collecting pathtools (from -r requirements.txt (line 23))\n",
            "  Downloading pathtools-0.1.2.tar.gz (11 kB)\n",
            "  Preparing metadata (setup.py) ... \u001b[?25l\u001b[?25hdone\n",
            "Requirement already satisfied: pickleshare in /usr/local/lib/python3.11/dist-packages (from -r requirements.txt (line 24)) (0.7.5)\n",
            "Requirement already satisfied: pytest in /usr/local/lib/python3.11/dist-packages (from -r requirements.txt (line 25)) (8.4.1)\n",
            "Requirement already satisfied: scipy in /usr/local/lib/python3.11/dist-packages (from -r requirements.txt (line 26)) (1.16.1)\n",
            "Requirement already satisfied: tensorflow in /usr/local/lib/python3.11/dist-packages (from -r requirements.txt (line 27)) (2.19.0)\n",
            "Requirement already satisfied: tqdm in /usr/local/lib/python3.11/dist-packages (from -r requirements.txt (line 28)) (4.67.1)\n",
            "Requirement already satisfied: setuptools>=60.0.0 in /usr/local/lib/python3.11/dist-packages (from arviz->-r requirements.txt (line 2)) (75.2.0)\n",
            "Requirement already satisfied: packaging in /usr/local/lib/python3.11/dist-packages (from arviz->-r requirements.txt (line 2)) (25.0)\n",
            "Requirement already satisfied: pandas>=2.1.0 in /usr/local/lib/python3.11/dist-packages (from arviz->-r requirements.txt (line 2)) (2.2.2)\n",
            "Requirement already satisfied: xarray>=2023.7.0 in /usr/local/lib/python3.11/dist-packages (from arviz->-r requirements.txt (line 2)) (2025.7.1)\n",
            "Requirement already satisfied: h5netcdf>=1.0.2 in /usr/local/lib/python3.11/dist-packages (from arviz->-r requirements.txt (line 2)) (1.6.4)\n",
            "Requirement already satisfied: typing-extensions>=4.1.0 in /usr/local/lib/python3.11/dist-packages (from arviz->-r requirements.txt (line 2)) (4.14.1)\n",
            "Requirement already satisfied: xarray-einstats>=0.3 in /usr/local/lib/python3.11/dist-packages (from arviz->-r requirements.txt (line 2)) (0.9.1)\n",
            "Requirement already satisfied: pyerfa>=2.0.1.1 in /usr/local/lib/python3.11/dist-packages (from astropy->-r requirements.txt (line 3)) (2.0.1.5)\n",
            "Requirement already satisfied: astropy-iers-data>=0.2025.4.28.0.37.27 in /usr/local/lib/python3.11/dist-packages (from astropy->-r requirements.txt (line 3)) (0.2025.8.11.0.41.9)\n",
            "Requirement already satisfied: PyYAML>=6.0.0 in /usr/local/lib/python3.11/dist-packages (from astropy->-r requirements.txt (line 3)) (6.0.2)\n",
            "Collecting lineax>=0.0.5 (from diffrax>=0.6.2->-r requirements.txt (line 8))\n",
            "  Downloading lineax-0.0.8-py3-none-any.whl.metadata (18 kB)\n",
            "Collecting optimistix>=0.0.10 (from diffrax>=0.6.2->-r requirements.txt (line 8))\n",
            "  Downloading optimistix-0.0.10-py3-none-any.whl.metadata (17 kB)\n",
            "Collecting wadler-lindig>=0.1.1 (from diffrax>=0.6.2->-r requirements.txt (line 8))\n",
            "  Downloading wadler_lindig-0.1.7-py3-none-any.whl.metadata (17 kB)\n",
            "Requirement already satisfied: ml_dtypes>=0.4.0 in /usr/local/lib/python3.11/dist-packages (from jax>=0.4.38->-r requirements.txt (line 12)) (0.5.3)\n",
            "Requirement already satisfied: opt_einsum in /usr/local/lib/python3.11/dist-packages (from jax>=0.4.38->-r requirements.txt (line 12)) (3.4.0)\n",
            "Requirement already satisfied: contourpy>=1.0.1 in /usr/local/lib/python3.11/dist-packages (from matplotlib->-r requirements.txt (line 17)) (1.3.3)\n",
            "Requirement already satisfied: cycler>=0.10 in /usr/local/lib/python3.11/dist-packages (from matplotlib->-r requirements.txt (line 17)) (0.12.1)\n",
            "Requirement already satisfied: fonttools>=4.22.0 in /usr/local/lib/python3.11/dist-packages (from matplotlib->-r requirements.txt (line 17)) (4.59.0)\n",
            "Requirement already satisfied: kiwisolver>=1.3.1 in /usr/local/lib/python3.11/dist-packages (from matplotlib->-r requirements.txt (line 17)) (1.4.9)\n",
            "Requirement already satisfied: pillow>=8 in /usr/local/lib/python3.11/dist-packages (from matplotlib->-r requirements.txt (line 17)) (11.3.0)\n",
            "Requirement already satisfied: pyparsing>=2.3.1 in /usr/local/lib/python3.11/dist-packages (from matplotlib->-r requirements.txt (line 17)) (3.2.3)\n",
            "Requirement already satisfied: python-dateutil>=2.7 in /usr/local/lib/python3.11/dist-packages (from matplotlib->-r requirements.txt (line 17)) (2.9.0.post0)\n",
            "Requirement already satisfied: multipledispatch in /usr/local/lib/python3.11/dist-packages (from numpyro->-r requirements.txt (line 19)) (1.0.0)\n",
            "Requirement already satisfied: chex>=0.1.87 in /usr/local/lib/python3.11/dist-packages (from optax->-r requirements.txt (line 20)) (0.1.90)\n",
            "Requirement already satisfied: iniconfig>=1 in /usr/local/lib/python3.11/dist-packages (from pytest->-r requirements.txt (line 25)) (2.1.0)\n",
            "Requirement already satisfied: pluggy<2,>=1.5 in /usr/local/lib/python3.11/dist-packages (from pytest->-r requirements.txt (line 25)) (1.6.0)\n",
            "Requirement already satisfied: pygments>=2.7.2 in /usr/local/lib/python3.11/dist-packages (from pytest->-r requirements.txt (line 25)) (2.19.2)\n",
            "Requirement already satisfied: astunparse>=1.6.0 in /usr/local/lib/python3.11/dist-packages (from tensorflow->-r requirements.txt (line 27)) (1.6.3)\n",
            "Requirement already satisfied: flatbuffers>=24.3.25 in /usr/local/lib/python3.11/dist-packages (from tensorflow->-r requirements.txt (line 27)) (25.2.10)\n",
            "Requirement already satisfied: gast!=0.5.0,!=0.5.1,!=0.5.2,>=0.2.1 in /usr/local/lib/python3.11/dist-packages (from tensorflow->-r requirements.txt (line 27)) (0.6.0)\n",
            "Requirement already satisfied: google-pasta>=0.1.1 in /usr/local/lib/python3.11/dist-packages (from tensorflow->-r requirements.txt (line 27)) (0.2.0)\n",
            "Requirement already satisfied: libclang>=13.0.0 in /usr/local/lib/python3.11/dist-packages (from tensorflow->-r requirements.txt (line 27)) (18.1.1)\n",
            "Requirement already satisfied: protobuf!=4.21.0,!=4.21.1,!=4.21.2,!=4.21.3,!=4.21.4,!=4.21.5,<6.0.0dev,>=3.20.3 in /usr/local/lib/python3.11/dist-packages (from tensorflow->-r requirements.txt (line 27)) (5.29.5)\n",
            "Requirement already satisfied: requests<3,>=2.21.0 in /usr/local/lib/python3.11/dist-packages (from tensorflow->-r requirements.txt (line 27)) (2.32.3)\n",
            "Requirement already satisfied: six>=1.12.0 in /usr/local/lib/python3.11/dist-packages (from tensorflow->-r requirements.txt (line 27)) (1.17.0)\n",
            "Requirement already satisfied: termcolor>=1.1.0 in /usr/local/lib/python3.11/dist-packages (from tensorflow->-r requirements.txt (line 27)) (3.1.0)\n",
            "Requirement already satisfied: wrapt>=1.11.0 in /usr/local/lib/python3.11/dist-packages (from tensorflow->-r requirements.txt (line 27)) (1.17.2)\n",
            "Requirement already satisfied: grpcio<2.0,>=1.24.3 in /usr/local/lib/python3.11/dist-packages (from tensorflow->-r requirements.txt (line 27)) (1.74.0)\n",
            "Requirement already satisfied: tensorboard~=2.19.0 in /usr/local/lib/python3.11/dist-packages (from tensorflow->-r requirements.txt (line 27)) (2.19.0)\n",
            "Requirement already satisfied: keras>=3.5.0 in /usr/local/lib/python3.11/dist-packages (from tensorflow->-r requirements.txt (line 27)) (3.10.0)\n",
            "Requirement already satisfied: h5py>=3.11.0 in /usr/local/lib/python3.11/dist-packages (from tensorflow->-r requirements.txt (line 27)) (3.14.0)\n",
            "Requirement already satisfied: tensorflow-io-gcs-filesystem>=0.23.1 in /usr/local/lib/python3.11/dist-packages (from tensorflow->-r requirements.txt (line 27)) (0.37.1)\n",
            "Requirement already satisfied: wheel<1.0,>=0.23.0 in /usr/local/lib/python3.11/dist-packages (from astunparse>=1.6.0->tensorflow->-r requirements.txt (line 27)) (0.45.1)\n",
            "Requirement already satisfied: toolz>=0.9.0 in /usr/local/lib/python3.11/dist-packages (from chex>=0.1.87->optax->-r requirements.txt (line 20)) (0.12.1)\n",
            "Requirement already satisfied: rich in /usr/local/lib/python3.11/dist-packages (from keras>=3.5.0->tensorflow->-r requirements.txt (line 27)) (13.9.4)\n",
            "Requirement already satisfied: namex in /usr/local/lib/python3.11/dist-packages (from keras>=3.5.0->tensorflow->-r requirements.txt (line 27)) (0.1.0)\n",
            "Requirement already satisfied: optree in /usr/local/lib/python3.11/dist-packages (from keras>=3.5.0->tensorflow->-r requirements.txt (line 27)) (0.17.0)\n",
            "Requirement already satisfied: pytz>=2020.1 in /usr/local/lib/python3.11/dist-packages (from pandas>=2.1.0->arviz->-r requirements.txt (line 2)) (2025.2)\n",
            "Requirement already satisfied: tzdata>=2022.7 in /usr/local/lib/python3.11/dist-packages (from pandas>=2.1.0->arviz->-r requirements.txt (line 2)) (2025.2)\n",
            "Requirement already satisfied: charset-normalizer<4,>=2 in /usr/local/lib/python3.11/dist-packages (from requests<3,>=2.21.0->tensorflow->-r requirements.txt (line 27)) (3.4.3)\n",
            "Requirement already satisfied: idna<4,>=2.5 in /usr/local/lib/python3.11/dist-packages (from requests<3,>=2.21.0->tensorflow->-r requirements.txt (line 27)) (3.10)\n",
            "Requirement already satisfied: urllib3<3,>=1.21.1 in /usr/local/lib/python3.11/dist-packages (from requests<3,>=2.21.0->tensorflow->-r requirements.txt (line 27)) (2.5.0)\n",
            "Requirement already satisfied: certifi>=2017.4.17 in /usr/local/lib/python3.11/dist-packages (from requests<3,>=2.21.0->tensorflow->-r requirements.txt (line 27)) (2025.8.3)\n",
            "Requirement already satisfied: markdown>=2.6.8 in /usr/local/lib/python3.11/dist-packages (from tensorboard~=2.19.0->tensorflow->-r requirements.txt (line 27)) (3.8.2)\n",
            "Requirement already satisfied: tensorboard-data-server<0.8.0,>=0.7.0 in /usr/local/lib/python3.11/dist-packages (from tensorboard~=2.19.0->tensorflow->-r requirements.txt (line 27)) (0.7.2)\n",
            "Requirement already satisfied: werkzeug>=1.0.1 in /usr/local/lib/python3.11/dist-packages (from tensorboard~=2.19.0->tensorflow->-r requirements.txt (line 27)) (3.1.3)\n",
            "Requirement already satisfied: MarkupSafe>=2.1.1 in /usr/local/lib/python3.11/dist-packages (from werkzeug>=1.0.1->tensorboard~=2.19.0->tensorflow->-r requirements.txt (line 27)) (3.0.2)\n",
            "Requirement already satisfied: markdown-it-py>=2.2.0 in /usr/local/lib/python3.11/dist-packages (from rich->keras>=3.5.0->tensorflow->-r requirements.txt (line 27)) (4.0.0)\n",
            "Requirement already satisfied: mdurl~=0.1 in /usr/local/lib/python3.11/dist-packages (from markdown-it-py>=2.2.0->rich->keras>=3.5.0->tensorflow->-r requirements.txt (line 27)) (0.1.2)\n",
            "Downloading corner-2.2.3-py3-none-any.whl (15 kB)\n",
            "Downloading cosmopower_jax-0.5.7-py3-none-any.whl (81.1 MB)\n",
            "\u001b[2K   \u001b[90m━━━━━━━━━━━━━━━━━━━━━━━━━━━━━━━━━━━━━━━━\u001b[0m \u001b[32m81.1/81.1 MB\u001b[0m \u001b[31m11.1 MB/s\u001b[0m eta \u001b[36m0:00:00\u001b[0m\n",
            "\u001b[?25hDownloading diffrax-0.7.0-py3-none-any.whl (193 kB)\n",
            "\u001b[2K   \u001b[90m━━━━━━━━━━━━━━━━━━━━━━━━━━━━━━━━━━━━━━━━\u001b[0m \u001b[32m193.2/193.2 kB\u001b[0m \u001b[31m17.3 MB/s\u001b[0m eta \u001b[36m0:00:00\u001b[0m\n",
            "\u001b[?25hDownloading dynesty-2.1.5-py2.py3-none-any.whl (108 kB)\n",
            "\u001b[2K   \u001b[90m━━━━━━━━━━━━━━━━━━━━━━━━━━━━━━━━━━━━━━━━\u001b[0m \u001b[32m108.2/108.2 kB\u001b[0m \u001b[31m8.9 MB/s\u001b[0m eta \u001b[36m0:00:00\u001b[0m\n",
            "\u001b[?25hDownloading emcee-3.1.6-py2.py3-none-any.whl (47 kB)\n",
            "\u001b[2K   \u001b[90m━━━━━━━━━━━━━━━━━━━━━━━━━━━━━━━━━━━━━━━━\u001b[0m \u001b[32m47.4/47.4 kB\u001b[0m \u001b[31m4.0 MB/s\u001b[0m eta \u001b[36m0:00:00\u001b[0m\n",
            "\u001b[?25hDownloading equinox-0.13.0-py3-none-any.whl (177 kB)\n",
            "\u001b[2K   \u001b[90m━━━━━━━━━━━━━━━━━━━━━━━━━━━━━━━━━━━━━━━━\u001b[0m \u001b[32m177.7/177.7 kB\u001b[0m \u001b[31m14.3 MB/s\u001b[0m eta \u001b[36m0:00:00\u001b[0m\n",
            "\u001b[?25hDownloading jaxopt-0.8.5-py3-none-any.whl (172 kB)\n",
            "\u001b[2K   \u001b[90m━━━━━━━━━━━━━━━━━━━━━━━━━━━━━━━━━━━━━━━━\u001b[0m \u001b[32m172.4/172.4 kB\u001b[0m \u001b[31m14.9 MB/s\u001b[0m eta \u001b[36m0:00:00\u001b[0m\n",
            "\u001b[?25hDownloading jaxtyping-0.3.2-py3-none-any.whl (55 kB)\n",
            "\u001b[2K   \u001b[90m━━━━━━━━━━━━━━━━━━━━━━━━━━━━━━━━━━━━━━━━\u001b[0m \u001b[32m55.4/55.4 kB\u001b[0m \u001b[31m5.2 MB/s\u001b[0m eta \u001b[36m0:00:00\u001b[0m\n",
            "\u001b[?25hDownloading numpyro-0.19.0-py3-none-any.whl (370 kB)\n",
            "\u001b[2K   \u001b[90m━━━━━━━━━━━━━━━━━━━━━━━━━━━━━━━━━━━━━━━━\u001b[0m \u001b[32m370.9/370.9 kB\u001b[0m \u001b[31m28.8 MB/s\u001b[0m eta \u001b[36m0:00:00\u001b[0m\n",
            "\u001b[?25hDownloading palettable-3.3.3-py2.py3-none-any.whl (332 kB)\n",
            "\u001b[2K   \u001b[90m━━━━━━━━━━━━━━━━━━━━━━━━━━━━━━━━━━━━━━━━\u001b[0m \u001b[32m332.3/332.3 kB\u001b[0m \u001b[31m28.0 MB/s\u001b[0m eta \u001b[36m0:00:00\u001b[0m\n",
            "\u001b[?25hDownloading pathspec-0.12.1-py3-none-any.whl (31 kB)\n",
            "Downloading lineax-0.0.8-py3-none-any.whl (68 kB)\n",
            "\u001b[2K   \u001b[90m━━━━━━━━━━━━━━━━━━━━━━━━━━━━━━━━━━━━━━━━\u001b[0m \u001b[32m68.0/68.0 kB\u001b[0m \u001b[31m5.7 MB/s\u001b[0m eta \u001b[36m0:00:00\u001b[0m\n",
            "\u001b[?25hDownloading optimistix-0.0.10-py3-none-any.whl (84 kB)\n",
            "\u001b[2K   \u001b[90m━━━━━━━━━━━━━━━━━━━━━━━━━━━━━━━━━━━━━━━━\u001b[0m \u001b[32m84.3/84.3 kB\u001b[0m \u001b[31m7.3 MB/s\u001b[0m eta \u001b[36m0:00:00\u001b[0m\n",
            "\u001b[?25hDownloading wadler_lindig-0.1.7-py3-none-any.whl (20 kB)\n",
            "Building wheels for collected packages: pathtools\n",
            "  Building wheel for pathtools (setup.py) ... \u001b[?25l\u001b[?25hdone\n",
            "  Created wheel for pathtools: filename=pathtools-0.1.2-py3-none-any.whl size=8792 sha256=0a1a9a348717d2f531da246eb1a43c057e171533748414b897b099e24cec4206\n",
            "  Stored in directory: /root/.cache/pip/wheels/ea/b7/8b/84e94095ea418b9442f5abeba4ca7b0ad52d3fe7b69d6238a6\n",
            "Successfully built pathtools\n",
            "Installing collected packages: pathtools, dynesty, wadler-lindig, pathspec, palettable, emcee, jaxtyping, corner, numpyro, jaxopt, equinox, cosmopower-jax, lineax, optimistix, diffrax\n",
            "Successfully installed corner-2.2.3 cosmopower-jax-0.5.7 diffrax-0.7.0 dynesty-2.1.5 emcee-3.1.6 equinox-0.13.0 jaxopt-0.8.5 jaxtyping-0.3.2 lineax-0.0.8 numpyro-0.19.0 optimistix-0.0.10 palettable-3.3.3 pathspec-0.12.1 pathtools-0.1.2 wadler-lindig-0.1.7\n"
          ]
        }
      ],
      "source": [
        "!git clone https://github.com/cgiovanetti/LINX.git\n",
        "%cd LINX\n",
        "\n",
        "!pip install -r requirements.txt\n",
        "import jax\n",
        "from jax import numpy as jnp\n",
        "import matplotlib.pyplot as plt\n",
        "\n",
        "from linx.background import BackgroundModel\n",
        "from linx.nuclear import NuclearRates\n",
        "from linx.abundances import AbundanceModel"
      ],
      "id": "lc5Zn653DbK-"
    },
    {
      "cell_type": "code",
      "execution_count": 5,
      "id": "454ec1e9-0258-4c54-a969-a97d7bbc00ad",
      "metadata": {
        "id": "454ec1e9-0258-4c54-a969-a97d7bbc00ad"
      },
      "outputs": [],
      "source": [
        "import numpy as np\n",
        "import matplotlib.pyplot as plt\n",
        "from classy import Class"
      ]
    },
    {
      "cell_type": "markdown",
      "id": "13c48140-74cd-4565-af95-016a3b5a9c0d",
      "metadata": {
        "id": "13c48140-74cd-4565-af95-016a3b5a9c0d"
      },
      "source": [
        "# Using CLASS"
      ]
    },
    {
      "cell_type": "markdown",
      "id": "87594787-18d2-4b9f-bb31-321abc5400e7",
      "metadata": {
        "id": "87594787-18d2-4b9f-bb31-321abc5400e7"
      },
      "source": [
        "CLASS, like LINX, utilizes an object-oriented design.  Practically, this means the first thing you need to do is _initialize_ an _instance_ of it's main solver before you can start doing computations:"
      ]
    },
    {
      "cell_type": "code",
      "execution_count": null,
      "id": "b7d4fee1-0242-4976-aa1f-a70ff4eea262",
      "metadata": {
        "id": "b7d4fee1-0242-4976-aa1f-a70ff4eea262"
      },
      "outputs": [],
      "source": [
        "model = Class()"
      ]
    },
    {
      "cell_type": "markdown",
      "id": "d81bd162-a8b7-46b7-9739-55a19a65a343",
      "metadata": {
        "id": "d81bd162-a8b7-46b7-9739-55a19a65a343"
      },
      "source": [
        "`model` is our instance and can be used to do calculations.  We can set a number of cosmological parameters for it:"
      ]
    },
    {
      "cell_type": "code",
      "execution_count": null,
      "id": "2d10c186-75b5-44f5-b0a2-e198db629ff7",
      "metadata": {
        "colab": {
          "base_uri": "https://localhost:8080/"
        },
        "id": "2d10c186-75b5-44f5-b0a2-e198db629ff7",
        "outputId": "7c349b05-8d19-4bc7-ec42-8cbb4d6ce4ae"
      },
      "outputs": [
        {
          "output_type": "execute_result",
          "data": {
            "text/plain": [
              "True"
            ]
          },
          "metadata": {},
          "execution_count": 8
        }
      ],
      "source": [
        "model.set({'omega_b':0.0224}) # this sets the baryon density in CLASS"
      ]
    },
    {
      "cell_type": "markdown",
      "id": "3b42c8b4-fa6d-4dee-b299-b77cd5817805",
      "metadata": {
        "id": "3b42c8b4-fa6d-4dee-b299-b77cd5817805"
      },
      "source": [
        "Note the formatting is a little odd--those curly braces are required.  This is because CLASS is expecting a python data type called a _dictionary_, which is sort of like an array but also includes labels for the data.  In the above, the label is `'omega_b'`, telling CLASS that the number we passed in should be the baryon density.  This means we can set any number of parameters in any order, like so:"
      ]
    },
    {
      "cell_type": "code",
      "execution_count": null,
      "id": "4872954f-973e-4040-98ff-9b5d672f2991",
      "metadata": {
        "id": "4872954f-973e-4040-98ff-9b5d672f2991"
      },
      "outputs": [],
      "source": [
        "model.set({'omega_b':0.0224,'omega_cdm':0.120,'h' : 0.68})\n",
        "model.set({'omega_cdm':0.120,'omega_b':0.0224,'h' : 0.68})  # totally equivalent; because we provide keys, CLASS\n",
        "                                                            # knows what parameter to set to what value, even though\n",
        "                                                            # the ordering is different"
      ]
    },
    {
      "cell_type": "markdown",
      "id": "511b3260-d7b0-4de1-8fdc-f0a3c64ec8a1",
      "metadata": {
        "id": "511b3260-d7b0-4de1-8fdc-f0a3c64ec8a1"
      },
      "source": [
        "We also have to set a couple of parameters to get usable output.  The meanings of these parameters are very technical and have more to do with how we measure the CMB experimentally, so let's just set them to what we need for now:"
      ]
    },
    {
      "cell_type": "code",
      "execution_count": null,
      "id": "e5fc3b3a-430a-4e80-b3e6-72cd907868cd",
      "metadata": {
        "colab": {
          "base_uri": "https://localhost:8080/"
        },
        "id": "e5fc3b3a-430a-4e80-b3e6-72cd907868cd",
        "outputId": "7dd70b8b-426c-494b-9cef-7a216f21415e"
      },
      "outputs": [
        {
          "output_type": "execute_result",
          "data": {
            "text/plain": [
              "True"
            ]
          },
          "metadata": {},
          "execution_count": 9
        }
      ],
      "source": [
        "model.set({'output':'tCl, lCl','lensing':'yes'})"
      ]
    },
    {
      "cell_type": "markdown",
      "id": "af01afbc-220e-4a1d-bc97-ef594d5e46c0",
      "metadata": {
        "id": "af01afbc-220e-4a1d-bc97-ef594d5e46c0"
      },
      "source": [
        "Because we're using the same instance of the CLASS solver each time, these subsequent `model.set`'s do not overwrite the previous parameters.  In other words, setting `'output'` and `'lensing'` here did not overwrite our choices for `'omega_b'` and our other cosmological parameters--since we're using the same instance `model`, it stores the choices we already made for those parameters."
      ]
    },
    {
      "cell_type": "markdown",
      "id": "1a0cfe35-0939-4066-9905-fc25b51bf473",
      "metadata": {
        "id": "1a0cfe35-0939-4066-9905-fc25b51bf473"
      },
      "source": [
        "Now that we've set our desired parameters, we can ask CLASS to run a computation:"
      ]
    },
    {
      "cell_type": "code",
      "execution_count": null,
      "id": "f6a6961b-f36a-45e8-a690-cfe50e1e204d",
      "metadata": {
        "id": "f6a6961b-f36a-45e8-a690-cfe50e1e204d"
      },
      "outputs": [],
      "source": [
        "model.compute()"
      ]
    },
    {
      "cell_type": "markdown",
      "id": "8aeed355-6210-47bc-8a5f-6465a37b643e",
      "metadata": {
        "id": "8aeed355-6210-47bc-8a5f-6465a37b643e"
      },
      "source": [
        "`model` will store the outputs we asked for inside of itself, so now we can ask it for the CMB power spectrum it computed:"
      ]
    },
    {
      "cell_type": "code",
      "execution_count": null,
      "id": "71e701fc-28a1-43d6-8515-5eda1a1219b3",
      "metadata": {
        "id": "71e701fc-28a1-43d6-8515-5eda1a1219b3"
      },
      "outputs": [],
      "source": [
        "cl = model.lensed_cl(2500) # get at the outputs\n",
        "ll = cl['ell'][2:] # CLASS requires you truncate the first two points off the output arrays\n",
        "clTT = cl['tt'][2:]"
      ]
    },
    {
      "cell_type": "code",
      "execution_count": null,
      "id": "4ec2f561-d10e-4137-9a18-56753c5cd105",
      "metadata": {
        "id": "4ec2f561-d10e-4137-9a18-56753c5cd105",
        "outputId": "c6989229-6633-40b5-d687-c7ac88c04e4f"
      },
      "outputs": [
        {
          "name": "stderr",
          "output_type": "stream",
          "text": [
            "<>:4: SyntaxWarning: invalid escape sequence '\\e'\n",
            "<>:4: SyntaxWarning: invalid escape sequence '\\e'\n",
            "/var/folders/dz/9bww86957tj5p8v0rpbpr3n00000gn/T/ipykernel_20432/4063216888.py:4: SyntaxWarning: invalid escape sequence '\\e'\n",
            "  plt.xlabel('$\\ell$ (scale of mode)')\n"
          ]
        },
        {
          "data": {
            "text/plain": [
              "Text(0, 0.5, '$\\\\frac{\\\\ell(\\\\ell + 1)}{2\\\\pi} C_{\\\\ell}$ (power in mode)')"
            ]
          },
          "execution_count": 47,
          "metadata": {},
          "output_type": "execute_result"
        },
        {
          "data": {
            "image/png": "[encoded data removed]",
            "text/plain": [
              "<Figure size 640x480 with 1 Axes>"
            ]
          },
          "metadata": {},
          "output_type": "display_data"
        }
      ],
      "source": [
        "plt.plot(ll,ll*(ll+1.)/2./np.pi * clTT) # convention: scale the output by this factor l(l+1)/(2 pi)\n",
        "ax = plt.gca()\n",
        "ax.set_xscale('log')\n",
        "plt.xlabel('$\\ell$ (scale of mode)')\n",
        "plt.ylabel(r'$\\frac{\\ell(\\ell + 1)}{2\\pi} C_{\\ell}$ (power in mode)')"
      ]
    },
    {
      "cell_type": "code",
      "execution_count": null,
      "id": "a129a4c1-dc46-47e2-a19d-752e684e1468",
      "metadata": {
        "id": "a129a4c1-dc46-47e2-a19d-752e684e1468"
      },
      "outputs": [],
      "source": [
        "#The CMB telescope measures the data- scientists have to guess the parameters (omega_b) they overlay the CLASS curve and if it matches, parameter is correct\n",
        "# just comparing how many hot and cold spots of that size l is j like 2 l is a size of half the earth 3 is one third of earth"
      ]
    },
    {
      "cell_type": "code",
      "source": [
        "bkg_model = BackgroundModel()"
      ],
      "metadata": {
        "id": "f5NJppiBY6x5"
      },
      "id": "f5NJppiBY6x5",
      "execution_count": 6,
      "outputs": []
    },
    {
      "cell_type": "code",
      "source": [
        "t_vec, a_vec, rho_g_vec, rho_nu_vec, rho_NP_vec, p_NP_vec, Neff_vec = bkg_model(jnp.asarray(0.))"
      ],
      "metadata": {
        "colab": {
          "base_uri": "https://localhost:8080/"
        },
        "id": "eY2wjV9JY7J6",
        "outputId": "f0e05681-4a7f-4511-acc3-87ecd511ad60"
      },
      "id": "eY2wjV9JY7J6",
      "execution_count": 7,
      "outputs": [
        {
          "output_type": "stream",
          "name": "stdout",
          "text": [
            "`\\         /´  ||||        ||||  |||||     ||||  ||||   ||||\n",
            " /\\_______/\\   ||||        ||||  |||||||   ||||   |||| ||||\n",
            " ) __` ´__ (   ||||        ||||  |||| |||| ||||    |||||||\n",
            "/  `-|_|-´  \\  ||||        ||||  ||||  |||| |||    ||||||| \n",
            "/   (_x_)   \\  ||||||||||  ||||  ||||   |||||||   |||| ||||\n",
            "  )  `-´  (    ||||||||||  ||||  ||||    ||||||  ||||   ||||\n",
            " \n",
            "Compiling thermodynamics model...\n"
          ]
        }
      ]
    },
    {
      "cell_type": "code",
      "source": [
        "Neff_vec[-1]"
      ],
      "metadata": {
        "colab": {
          "base_uri": "https://localhost:8080/"
        },
        "id": "ST0EP0staD1d",
        "outputId": "de4b4cbc-5a12-42ef-b1af-351315270fa8"
      },
      "id": "ST0EP0staD1d",
      "execution_count": 10,
      "outputs": [
        {
          "output_type": "execute_result",
          "data": {
            "text/plain": [
              "Array(3.04436061, dtype=float64)"
            ]
          },
          "metadata": {},
          "execution_count": 10
        }
      ]
    },
    {
      "cell_type": "code",
      "source": [
        "t_vec, a_vec, rho_g_vec, rho_nu_vec, rho_NP_vec, p_NP_vec, Neff_vec = bkg_model(jnp.asarray(5.))"
      ],
      "metadata": {
        "id": "Q0cfyUbMaYsg"
      },
      "id": "Q0cfyUbMaYsg",
      "execution_count": 13,
      "outputs": []
    },
    {
      "cell_type": "code",
      "source": [
        "Neff_vec[-1]"
      ],
      "metadata": {
        "colab": {
          "base_uri": "https://localhost:8080/"
        },
        "id": "8ZfbxFMdalYv",
        "outputId": "274ed043-1ef2-4f8e-f758-ad71c9d6926f"
      },
      "id": "8ZfbxFMdalYv",
      "execution_count": 14,
      "outputs": [
        {
          "output_type": "execute_result",
          "data": {
            "text/plain": [
              "Array(4.40981199, dtype=float64)"
            ]
          },
          "metadata": {},
          "execution_count": 14
        }
      ]
    },
    {
      "cell_type": "code",
      "source": [
        "eta_fac = 1.5"
      ],
      "metadata": {
        "id": "MH1hKglBbvUV"
      },
      "id": "MH1hKglBbvUV",
      "execution_count": 15,
      "outputs": []
    },
    {
      "cell_type": "code",
      "source": [
        "abd_model = AbundanceModel(\n",
        "    NuclearRates(nuclear_net='key_PArthENoPE')\n",
        ")"
      ],
      "metadata": {
        "id": "HEM3X2JRbyP0"
      },
      "id": "HEM3X2JRbyP0",
      "execution_count": 22,
      "outputs": []
    },
    {
      "cell_type": "code",
      "source": [
        "Yn, Yp, Yd, Yt, YHe3, Ya, YLi7, YBe7 = abd_model(\n",
        "    rho_g_vec, rho_nu_vec,\n",
        "    rho_NP_vec, p_NP_vec,\n",
        "    t_vec=t_vec, a_vec=a_vec\n",
        ")"
      ],
      "metadata": {
        "colab": {
          "base_uri": "https://localhost:8080/"
        },
        "id": "_euHcr4Ydys5",
        "outputId": "27738f03-a98d-43f3-b51b-3d90f43465c0"
      },
      "id": "_euHcr4Ydys5",
      "execution_count": 23,
      "outputs": [
        {
          "output_type": "stream",
          "name": "stdout",
          "text": [
            "Compiling abundance model...\n"
          ]
        }
      ]
    },
    {
      "cell_type": "code",
      "source": [
        "print(\"Yp = {}\".format(4 * Ya))\n",
        "print(\"D/H = {}\".format(Yd/Yp))"
      ],
      "metadata": {
        "colab": {
          "base_uri": "https://localhost:8080/"
        },
        "id": "_YTqJOyPd00K",
        "outputId": "ce8aea42-2200-45f7-eac9-090ff6aa8d14"
      },
      "id": "_YTqJOyPd00K",
      "execution_count": 25,
      "outputs": [
        {
          "output_type": "stream",
          "name": "stdout",
          "text": [
            "Yp = 0.26307925753352696\n",
            "D/H = 2.940460652672848e-05\n"
          ]
        }
      ]
    },
    {
      "cell_type": "code",
      "source": [
        "eta_fac = jnp.linspace(0.8,1.2,num=20)"
      ],
      "metadata": {
        "id": "ROdhIoSUeDaX"
      },
      "id": "ROdhIoSUeDaX",
      "execution_count": 24,
      "outputs": []
    },
    {
      "cell_type": "markdown",
      "source": [
        "YP ~ 0.245 ± 0.003\n",
        "D/H ~ (2.47 ± 0.03) × 10−5\n",
        "Measured Abundances"
      ],
      "metadata": {
        "id": "3ZplCurZeSZV"
      },
      "id": "3ZplCurZeSZV"
    },
    {
      "cell_type": "code",
      "source": [],
      "metadata": {
        "id": "86H80t6KeD2l"
      },
      "id": "86H80t6KeD2l",
      "execution_count": null,
      "outputs": []
    },
    {
      "cell_type": "code",
      "execution_count": null,
      "metadata": {
        "id": "c73e08e7-171a-46f8-a63c-1197a35d5bd4",
        "outputId": "3675bc9d-c13f-41a1-af44-92b1f36d4ba5"
      },
      "outputs": [
        {
          "data": {
            "image/png": "[encoded data removed]",
            "text/plain": [
              "<Figure size 640x480 with 1 Axes>"
            ]
          },
          "metadata": {},
          "output_type": "display_data"
        },
        {
          "data": {
            "text/plain": [
              "Text(0, 0.5, 'Y$_{\\\\rm{P}}$')"
            ]
          },
          "execution_count": 38,
          "metadata": {},
          "output_type": "execute_result"
        },
        {
          "data": {
            "image/png": "[encoded data removed]",
            "text/plain": [
              "<Figure size 640x480 with 1 Axes>"
            ]
          },
          "metadata": {},
          "output_type": "display_data"
        }
      ],
      "source": [
        "plt.loglog(const.Omegabh2 * const.Omegabh2_to_eta0 * eta_fac,res[:,2]/res[:,1])\n",
        "plt.xlabel(r'$\\eta$')\n",
        "plt.ylabel('D/H')\n",
        "plt.show()\n",
        "\n",
        "plt.plot(const.Omegabh2 * const.Omegabh2_to_eta0 * eta_fac,4*res[:,5])\n",
        "ax=plt.gca()\n",
        "ax.set_xscale('log')\n",
        "plt.xlabel(r'$\\eta$')\n",
        "plt.ylabel(r'Y$_{\\rm{P}}$')"
      ],
      "id": "c73e08e7-171a-46f8-a63c-1197a35d5bd4"
    },
    {
      "cell_type": "code",
      "source": [
        "model = Class()"
      ],
      "metadata": {
        "id": "rTiyscpxe-wT"
      },
      "id": "rTiyscpxe-wT",
      "execution_count": 26,
      "outputs": []
    },
    {
      "cell_type": "code",
      "source": [
        "model.set({'omega_b':0.0224,'omega_cdm':0.120,'h' : 0.68})"
      ],
      "metadata": {
        "colab": {
          "base_uri": "https://localhost:8080/"
        },
        "id": "LnvZRPo6fBvW",
        "outputId": "6c378007-7b16-4ea5-e192-bb6e7318298c"
      },
      "id": "LnvZRPo6fBvW",
      "execution_count": 27,
      "outputs": [
        {
          "output_type": "execute_result",
          "data": {
            "text/plain": [
              "True"
            ]
          },
          "metadata": {},
          "execution_count": 27
        }
      ]
    },
    {
      "cell_type": "code",
      "source": [
        "model.set({'output':'tCl, lCl','lensing':'yes'})"
      ],
      "metadata": {
        "colab": {
          "base_uri": "https://localhost:8080/"
        },
        "id": "WWMCZC0wfHqu",
        "outputId": "60e573b2-58af-4f09-d9aa-6f12812aac2c"
      },
      "id": "WWMCZC0wfHqu",
      "execution_count": 28,
      "outputs": [
        {
          "output_type": "execute_result",
          "data": {
            "text/plain": [
              "True"
            ]
          },
          "metadata": {},
          "execution_count": 28
        }
      ]
    },
    {
      "cell_type": "code",
      "source": [
        "model.compute() #now we can ask for the CMB power spectrum"
      ],
      "metadata": {
        "id": "rT38BBynfLCN"
      },
      "id": "rT38BBynfLCN",
      "execution_count": 29,
      "outputs": []
    },
    {
      "cell_type": "code",
      "source": [
        "cl = model.lensed_cl(2500) # get at the outputs\n",
        "ll = cl['ell'][2:] # CLASS requires you truncate the first two points off the output arrays\n",
        "clTT = cl['tt'][2:]"
      ],
      "metadata": {
        "id": "00s9EWy4fTjD"
      },
      "id": "00s9EWy4fTjD",
      "execution_count": 30,
      "outputs": []
    },
    {
      "cell_type": "code",
      "source": [
        "plt.plot(ll,ll*(ll+1.)/2./np.pi * clTT) # convention: scale the output by this factor l(l+1)/(2 pi)\n",
        "ax = plt.gca()\n",
        "ax.set_xscale('log')\n",
        "plt.xlabel('$\\ell$ (scale of mode)')\n",
        "plt.ylabel(r'$\\frac{\\ell(\\ell + 1)}{2\\pi} C_{\\ell}$ (power in mode)')"
      ],
      "metadata": {
        "colab": {
          "base_uri": "https://localhost:8080/",
          "height": 488
        },
        "id": "BzBPcN6YfXDv",
        "outputId": "9ac37928-6b1f-42e7-82e2-3310b393f351"
      },
      "id": "BzBPcN6YfXDv",
      "execution_count": 31,
      "outputs": [
        {
          "output_type": "execute_result",
          "data": {
            "text/plain": [
              "Text(0, 0.5, '$\\\\frac{\\\\ell(\\\\ell + 1)}{2\\\\pi} C_{\\\\ell}$ (power in mode)')"
            ]
          },
          "metadata": {},
          "execution_count": 31
        },
        {
          "output_type": "display_data",
          "data": {
            "text/plain": [
              "<Figure size 640x480 with 1 Axes>"
            ],
            "image/png": "[encoded data removed]"
          },
          "metadata": {}
        }
      ]
    },
    {
      "cell_type": "code",
      "source": [
        "model.set({'omega_b':0.03,'omega_cdm':1.,'h' : 2.}) # increasing baryon density, density of dark matter, and hubble const.\n",
        "model.set({'output':'tCl, lCl','lensing':'yes'})\n",
        "model.compute()\n",
        "cl = model.lensed_cl(2500) # get at the outputs\n",
        "ll = cl['ell'][2:] # CLASS requires you truncate the first two points off the output arrays\n",
        "clTT = cl['tt'][2:]\n",
        "plt.plot(ll,ll*(ll+1.)/2./np.pi * clTT) # convention: scale the output by this factor l(l+1)/(2 pi)\n",
        "ax = plt.gca()\n",
        "ax.set_xscale('log')\n",
        "plt.xlabel('$\\ell$ (scale of mode)')\n",
        "plt.ylabel(r'$\\frac{\\ell(\\ell + 1)}{2\\pi} C_{\\ell}$ (power in mode)')"
      ],
      "metadata": {
        "colab": {
          "base_uri": "https://localhost:8080/",
          "height": 488
        },
        "id": "Q-ywmvf-fbph",
        "outputId": "3373f618-8643-4a4f-953d-e9bcfa8af671"
      },
      "id": "Q-ywmvf-fbph",
      "execution_count": 35,
      "outputs": [
        {
          "output_type": "execute_result",
          "data": {
            "text/plain": [
              "Text(0, 0.5, '$\\\\frac{\\\\ell(\\\\ell + 1)}{2\\\\pi} C_{\\\\ell}$ (power in mode)')"
            ]
          },
          "metadata": {},
          "execution_count": 35
        },
        {
          "output_type": "display_data",
          "data": {
            "text/plain": [
              "<Figure size 640x480 with 1 Axes>"
            ],
            "image/png": "[encoded data removed]"
          },
          "metadata": {}
        }
      ]
    },
    {
      "cell_type": "markdown",
      "source": [
        "Varying eta_fac in abd_model(...) is varying\n",
        "𝜂\n",
        "η (hence\n",
        "Ω\n",
        "𝑏\n",
        "ℎ\n",
        "2\n",
        "Ω\n",
        "b\n",
        "​\n",
        " h\n",
        "2\n",
        " ). You saw: ↑\n",
        "𝜂\n",
        "η → ↓ D/H, slight ↑\n",
        "𝑌\n",
        "𝑃\n",
        "Y\n",
        "P\n",
        "​\n",
        " .\n",
        "\n",
        "Calling bkg_model(jnp.asarray(value)) changes the effective radiation content, which LINX reports as Neff_vec (use Neff_vec[-1]). You saw: ↑\n",
        "𝑁\n",
        "eff\n",
        "N\n",
        "eff\n",
        "​\n",
        "  → ↑\n",
        "𝑌\n",
        "𝑃\n",
        "Y\n",
        "P\n",
        "​\n",
        "  and ↑ D/H.\n",
        "\n",
        "In standard cosmology, the values of\n",
        "𝜂\n",
        "η and\n",
        "𝑁\n",
        "eff\n",
        "N\n",
        "eff\n",
        "​\n",
        "  that best fit BBN match those that best fit the CMB."
      ],
      "metadata": {
        "id": "fLAwoda6hF1q"
      },
      "id": "fLAwoda6hF1q"
    },
    {
      "cell_type": "code",
      "source": [],
      "metadata": {
        "id": "1B1VtlpHgUau"
      },
      "id": "1B1VtlpHgUau",
      "execution_count": null,
      "outputs": []
    }
  ],
  "metadata": {
    "kernelspec": {
      "display_name": "Python 3 (ipykernel)",
      "language": "python",
      "name": "python3"
    },
    "language_info": {
      "codemirror_mode": {
        "name": "ipython",
        "version": 3
      },
      "file_extension": ".py",
      "mimetype": "text/x-python",
      "name": "python",
      "nbconvert_exporter": "python",
      "pygments_lexer": "ipython3",
      "version": "3.12.11"
    },
    "colab": {
      "provenance": []
    }
  },
  "nbformat": 4,
  "nbformat_minor": 5
}